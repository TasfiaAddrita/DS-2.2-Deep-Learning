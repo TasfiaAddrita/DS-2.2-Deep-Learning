{
  "nbformat": 4,
  "nbformat_minor": 0,
  "metadata": {
    "colab": {
      "name": "fire-classification-nn.ipynb",
      "provenance": [],
      "collapsed_sections": []
    },
    "kernelspec": {
      "name": "python3",
      "display_name": "Python 3"
    },
    "accelerator": "GPU"
  },
  "cells": [
    {
      "cell_type": "markdown",
      "metadata": {
        "id": "33AdHhsGgOwO",
        "colab_type": "text"
      },
      "source": [
        "### Imports"
      ]
    },
    {
      "cell_type": "code",
      "metadata": {
        "id": "EUol6fk1fIBw",
        "colab_type": "code",
        "colab": {}
      },
      "source": [
        "import glob\n",
        "import numpy as np\n",
        "import pandas as pd\n",
        "import matplotlib.pyplot as plt\n",
        "from sklearn.model_selection import train_test_split\n",
        "\n",
        "import keras\n",
        "from keras.models import Sequential\n",
        "from keras.layers import Dense, Input, Conv2D, MaxPooling2D, Dropout, Flatten, BatchNormalization, Activation\n",
        "from keras.optimizers import SGD\n",
        "from keras.initializers import RandomNormal\n",
        "from keras.models import load_model"
      ],
      "execution_count": 27,
      "outputs": []
    },
    {
      "cell_type": "code",
      "metadata": {
        "id": "u0csvbzfuDq6",
        "colab_type": "code",
        "colab": {}
      },
      "source": [
        "keras.backend.clear_session()"
      ],
      "execution_count": 28,
      "outputs": []
    },
    {
      "cell_type": "markdown",
      "metadata": {
        "id": "N8MF5neJ_g4I",
        "colab_type": "text"
      },
      "source": [
        "### Data Preparation"
      ]
    },
    {
      "cell_type": "code",
      "metadata": {
        "id": "eR0Ocnyoiwq5",
        "colab_type": "code",
        "colab": {}
      },
      "source": [
        "files = glob.glob(\"./dataset/fire-images/*.*\")\n",
        "ls_fire = []\n",
        "for i in files:\n",
        "    ls_fire.append(['fire-images', i.split(\"/\")[3], '1'])"
      ],
      "execution_count": 29,
      "outputs": []
    },
    {
      "cell_type": "code",
      "metadata": {
        "id": "oQ1Vmbt7jB_B",
        "colab_type": "code",
        "colab": {
          "base_uri": "https://localhost:8080/",
          "height": 204
        },
        "outputId": "36034c1c-dda1-418b-ae20-8829d2acff3e"
      },
      "source": [
        "df_fire = pd.DataFrame(ls_fire, columns=['folder', 'filename', 'label'])\n",
        "df_fire.head()"
      ],
      "execution_count": 30,
      "outputs": [
        {
          "output_type": "execute_result",
          "data": {
            "text/html": [
              "<div>\n",
              "<style scoped>\n",
              "    .dataframe tbody tr th:only-of-type {\n",
              "        vertical-align: middle;\n",
              "    }\n",
              "\n",
              "    .dataframe tbody tr th {\n",
              "        vertical-align: top;\n",
              "    }\n",
              "\n",
              "    .dataframe thead th {\n",
              "        text-align: right;\n",
              "    }\n",
              "</style>\n",
              "<table border=\"1\" class=\"dataframe\">\n",
              "  <thead>\n",
              "    <tr style=\"text-align: right;\">\n",
              "      <th></th>\n",
              "      <th>folder</th>\n",
              "      <th>filename</th>\n",
              "      <th>label</th>\n",
              "    </tr>\n",
              "  </thead>\n",
              "  <tbody>\n",
              "    <tr>\n",
              "      <th>0</th>\n",
              "      <td>fire-images</td>\n",
              "      <td>92983122.jpg</td>\n",
              "      <td>1</td>\n",
              "    </tr>\n",
              "    <tr>\n",
              "      <th>1</th>\n",
              "      <td>fire-images</td>\n",
              "      <td>wildfire-coverage-521x308.jpg</td>\n",
              "      <td>1</td>\n",
              "    </tr>\n",
              "    <tr>\n",
              "      <th>2</th>\n",
              "      <td>fire-images</td>\n",
              "      <td>201307-restroom-fire-safety-fire1.jpg</td>\n",
              "      <td>1</td>\n",
              "    </tr>\n",
              "    <tr>\n",
              "      <th>3</th>\n",
              "      <td>fire-images</td>\n",
              "      <td>X-Files_Office_on_fire.jpg</td>\n",
              "      <td>1</td>\n",
              "    </tr>\n",
              "    <tr>\n",
              "      <th>4</th>\n",
              "      <td>fire-images</td>\n",
              "      <td>tree-fire.jpg</td>\n",
              "      <td>1</td>\n",
              "    </tr>\n",
              "  </tbody>\n",
              "</table>\n",
              "</div>"
            ],
            "text/plain": [
              "        folder                               filename label\n",
              "0  fire-images                           92983122.jpg     1\n",
              "1  fire-images          wildfire-coverage-521x308.jpg     1\n",
              "2  fire-images  201307-restroom-fire-safety-fire1.jpg     1\n",
              "3  fire-images             X-Files_Office_on_fire.jpg     1\n",
              "4  fire-images                          tree-fire.jpg     1"
            ]
          },
          "metadata": {
            "tags": []
          },
          "execution_count": 30
        }
      ]
    },
    {
      "cell_type": "code",
      "metadata": {
        "id": "pUpy7rcajINJ",
        "colab_type": "code",
        "colab": {}
      },
      "source": [
        "files = glob.glob(\"./dataset/normal-images-?/*.*\")\n",
        "ls_normal = []\n",
        "for i in files:\n",
        "    folder, filename = i.split(\"/\")[2], i.split(\"/\")[3]\n",
        "    ls_normal.append([f'{folder}', filename, '0'])"
      ],
      "execution_count": 31,
      "outputs": []
    },
    {
      "cell_type": "code",
      "metadata": {
        "id": "occSuPsxj8HO",
        "colab_type": "code",
        "colab": {
          "base_uri": "https://localhost:8080/",
          "height": 204
        },
        "outputId": "6951ab44-48f0-4778-e5c2-2eb639b855a2"
      },
      "source": [
        "df_normal = pd.DataFrame(ls_normal, columns=['folder', 'filename', 'label'])\n",
        "df_normal.head()"
      ],
      "execution_count": 32,
      "outputs": [
        {
          "output_type": "execute_result",
          "data": {
            "text/html": [
              "<div>\n",
              "<style scoped>\n",
              "    .dataframe tbody tr th:only-of-type {\n",
              "        vertical-align: middle;\n",
              "    }\n",
              "\n",
              "    .dataframe tbody tr th {\n",
              "        vertical-align: top;\n",
              "    }\n",
              "\n",
              "    .dataframe thead th {\n",
              "        text-align: right;\n",
              "    }\n",
              "</style>\n",
              "<table border=\"1\" class=\"dataframe\">\n",
              "  <thead>\n",
              "    <tr style=\"text-align: right;\">\n",
              "      <th></th>\n",
              "      <th>folder</th>\n",
              "      <th>filename</th>\n",
              "      <th>label</th>\n",
              "    </tr>\n",
              "  </thead>\n",
              "  <tbody>\n",
              "    <tr>\n",
              "      <th>0</th>\n",
              "      <td>normal-images-5</td>\n",
              "      <td>rooms-hotel-tbilisi-suite-bed-and-bathtub-city...</td>\n",
              "      <td>0</td>\n",
              "    </tr>\n",
              "    <tr>\n",
              "      <th>1</th>\n",
              "      <td>normal-images-5</td>\n",
              "      <td>unnamed.jpg</td>\n",
              "      <td>0</td>\n",
              "    </tr>\n",
              "    <tr>\n",
              "      <th>2</th>\n",
              "      <td>normal-images-5</td>\n",
              "      <td>Tromso.-Photo-credits-Bard-Loken-Innovatioin-N...</td>\n",
              "      <td>0</td>\n",
              "    </tr>\n",
              "    <tr>\n",
              "      <th>3</th>\n",
              "      <td>normal-images-5</td>\n",
              "      <td>tumblr_inline_nj85l1oMaC1t5js1c.jpg</td>\n",
              "      <td>0</td>\n",
              "    </tr>\n",
              "    <tr>\n",
              "      <th>4</th>\n",
              "      <td>normal-images-5</td>\n",
              "      <td>visa_requirements_for_norway-56e03f4b96539.jpg</td>\n",
              "      <td>0</td>\n",
              "    </tr>\n",
              "  </tbody>\n",
              "</table>\n",
              "</div>"
            ],
            "text/plain": [
              "            folder                                           filename label\n",
              "0  normal-images-5  rooms-hotel-tbilisi-suite-bed-and-bathtub-city...     0\n",
              "1  normal-images-5                                        unnamed.jpg     0\n",
              "2  normal-images-5  Tromso.-Photo-credits-Bard-Loken-Innovatioin-N...     0\n",
              "3  normal-images-5                tumblr_inline_nj85l1oMaC1t5js1c.jpg     0\n",
              "4  normal-images-5     visa_requirements_for_norway-56e03f4b96539.jpg     0"
            ]
          },
          "metadata": {
            "tags": []
          },
          "execution_count": 32
        }
      ]
    },
    {
      "cell_type": "code",
      "metadata": {
        "id": "9lgUZOm62dhL",
        "colab_type": "code",
        "colab": {}
      },
      "source": [
        "df = df_fire.append(df_normal, ignore_index=True)\n",
        "X = df[[\"folder\", \"filename\"]]\n",
        "y = df[\"label\"]"
      ],
      "execution_count": 33,
      "outputs": []
    },
    {
      "cell_type": "code",
      "metadata": {
        "id": "aS3p4z4XvGFV",
        "colab_type": "code",
        "colab": {}
      },
      "source": [
        "df.to_csv(\"./dataset/fires.csv\")"
      ],
      "execution_count": 8,
      "outputs": []
    },
    {
      "cell_type": "code",
      "metadata": {
        "id": "gG2sVMb2kprP",
        "colab_type": "code",
        "colab": {
          "base_uri": "https://localhost:8080/",
          "height": 51
        },
        "outputId": "7d703690-b805-46bb-d8e3-5dcbae882943"
      },
      "source": [
        "# X_train, X_test, y_train, y_test = train_test_split(X, y, test_size=0.25, random_state=0)\n",
        "\n",
        "X_train, X_test, y_train, y_test = train_test_split(\n",
        "    df.drop(columns=['label']), df['label'],\n",
        "    test_size=0.25, random_state=0\n",
        ")\n",
        "\n",
        "X_train['label'] = pd.Series((int(y) for y in y_train), index=X_train.index)\n",
        "X_test['label'] = pd.Series((int(y) for y in y_test), index=X_test.index)\n",
        "\n",
        "print(\"X train\\t\", X_train.shape, \"\\tX test\", X_test.shape)\n",
        "print(\"y train\\t\", y_train.shape, \"\\ty test\", y_test.shape)"
      ],
      "execution_count": 34,
      "outputs": [
        {
          "output_type": "stream",
          "text": [
            "X train\t (488, 3) \tX test (163, 3)\n",
            "y train\t (488,) \ty test (163,)\n"
          ],
          "name": "stdout"
        }
      ]
    },
    {
      "cell_type": "markdown",
      "metadata": {
        "id": "9HWZRXGRapDE",
        "colab_type": "text"
      },
      "source": [
        "#### Hyper-parameters initialization"
      ]
    },
    {
      "cell_type": "code",
      "metadata": {
        "id": "tewn_BCvGsXb",
        "colab_type": "code",
        "colab": {}
      },
      "source": [
        "img_size = 1024\n",
        "batch_size = 10\n",
        "epochs = 10"
      ],
      "execution_count": 10,
      "outputs": []
    },
    {
      "cell_type": "markdown",
      "metadata": {
        "id": "PlLobljx0lqF",
        "colab_type": "text"
      },
      "source": [
        "#### `fit_generator`"
      ]
    },
    {
      "cell_type": "code",
      "metadata": {
        "id": "fk4p_g3qkKP-",
        "colab_type": "code",
        "colab": {}
      },
      "source": [
        "from PIL import Image\n",
        "from keras.preprocessing.image import img_to_array\n",
        "\n",
        "# Create data generator for training\n",
        "def data_gen(df, batch_size):\n",
        "    while True:\n",
        "        x_batch = np.zeros((batch_size, 1024, 1024, 3))\n",
        "        y_batch = np.zeros((batch_size, 1))\n",
        "        for j in range(len(df)//batch_size):\n",
        "            b = 0\n",
        "            for m, k in zip(df['filename'].values[j*batch_size:(j+1)*batch_size], df['label'].values[j*batch_size:(j+1)*batch_size]):\n",
        "                # print(k, 'dataset/{}/{}'.format(df[df['filename'] == m]['folder'].values[0], m))\n",
        "                img = Image.open('dataset/{}/{}'.format(df[df['filename'] == m]['folder'].values[0], m)).convert('RGB')\n",
        "                image_red = img.resize((img_size, img_size))\n",
        "                x_batch[b] = img_to_array(image_red)\n",
        "                y_batch[b] = k\n",
        "                b += 1\n",
        "            yield (x_batch, y_batch)"
      ],
      "execution_count": 11,
      "outputs": []
    },
    {
      "cell_type": "markdown",
      "metadata": {
        "id": "QJm_8ZzoAGx5",
        "colab_type": "text"
      },
      "source": [
        "### CNN"
      ]
    },
    {
      "cell_type": "markdown",
      "metadata": {
        "id": "Iuta9PRQASr-",
        "colab_type": "text"
      },
      "source": [
        "#### Baseline model"
      ]
    },
    {
      "cell_type": "code",
      "metadata": {
        "id": "nhFtN5S36kjy",
        "colab_type": "code",
        "colab": {}
      },
      "source": [
        "baseline = Sequential()\n",
        "\n",
        "baseline.add(Conv2D(32, kernel_size=(3,3), input_shape=(img_size, img_size, 3), activation=\"relu\"))\n",
        "baseline.add(Flatten())\n",
        "baseline.add(Dense(1, activation='sigmoid'))"
      ],
      "execution_count": 12,
      "outputs": []
    },
    {
      "cell_type": "code",
      "metadata": {
        "id": "Fwtx8bB6wtOQ",
        "colab_type": "code",
        "colab": {
          "base_uri": "https://localhost:8080/",
          "height": 374
        },
        "outputId": "f7cec834-ecdd-46bf-a03a-8b7afe238d74"
      },
      "source": [
        "baseline.compile(\n",
        "    optimizer=\"adam\", \n",
        "    loss='binary_crossentropy', \n",
        "    metrics=[\"accuracy\"]\n",
        ")\n",
        "\n",
        "baseline.fit_generator(\n",
        "    generator=data_gen(X_train, batch_size=batch_size), \n",
        "    steps_per_epoch=len(X_train)//batch_size, \n",
        "    epochs=epochs,\n",
        "    verbose=1\n",
        ")"
      ],
      "execution_count": 13,
      "outputs": [
        {
          "output_type": "stream",
          "text": [
            "Epoch 1/10\n",
            "48/48 [==============================] - 22s 460ms/step - loss: 11684.8000 - accuracy: 0.8021\n",
            "Epoch 2/10\n",
            "48/48 [==============================] - 21s 433ms/step - loss: 1102.5764 - accuracy: 0.8646\n",
            "Epoch 3/10\n",
            "48/48 [==============================] - 21s 441ms/step - loss: 240.8205 - accuracy: 0.9292\n",
            "Epoch 4/10\n",
            "48/48 [==============================] - 21s 434ms/step - loss: 78.0802 - accuracy: 0.9500\n",
            "Epoch 5/10\n",
            "48/48 [==============================] - 21s 440ms/step - loss: 92.8129 - accuracy: 0.9583\n",
            "Epoch 6/10\n",
            "48/48 [==============================] - 21s 433ms/step - loss: 40.2703 - accuracy: 0.9792\n",
            "Epoch 7/10\n",
            "48/48 [==============================] - 21s 437ms/step - loss: 68.5818 - accuracy: 0.9750\n",
            "Epoch 8/10\n",
            "48/48 [==============================] - 21s 434ms/step - loss: 13.8705 - accuracy: 0.9792\n",
            "Epoch 9/10\n",
            "48/48 [==============================] - 21s 439ms/step - loss: 75.2307 - accuracy: 0.9688\n",
            "Epoch 10/10\n",
            "48/48 [==============================] - 21s 434ms/step - loss: 26.3439 - accuracy: 0.9854\n"
          ],
          "name": "stdout"
        },
        {
          "output_type": "execute_result",
          "data": {
            "text/plain": [
              "<keras.callbacks.callbacks.History at 0x7fbf55485780>"
            ]
          },
          "metadata": {
            "tags": []
          },
          "execution_count": 13
        }
      ]
    },
    {
      "cell_type": "code",
      "metadata": {
        "id": "YkWc_ixz0b98",
        "colab_type": "code",
        "colab": {
          "base_uri": "https://localhost:8080/",
          "height": 34
        },
        "outputId": "b7ecf52f-6c4a-4a8f-ff89-b86adab72781"
      },
      "source": [
        "loss, accuracy = baseline.evaluate_generator(\n",
        "    generator=data_gen(X_test, batch_size), \n",
        "    steps=len(X_test)//batch_size, verbose=0\n",
        ")\n",
        "print(\"Accuracy = {:.5f}\".format(accuracy))"
      ],
      "execution_count": 14,
      "outputs": [
        {
          "output_type": "stream",
          "text": [
            "Accuracy = 0.86250\n"
          ],
          "name": "stdout"
        }
      ]
    },
    {
      "cell_type": "markdown",
      "metadata": {
        "id": "xbRs6NLOAgik",
        "colab_type": "text"
      },
      "source": [
        "#### Model "
      ]
    },
    {
      "cell_type": "code",
      "metadata": {
        "id": "2F7vppNJ9E63",
        "colab_type": "code",
        "colab": {}
      },
      "source": [
        "model = Sequential()\n",
        "\n",
        "# model.add(Conv2D(32, kernel_size=(3,3), input_shape=(1024, 1024, 3), activation=\"relu\"))\n",
        "model.add(Conv2D(32, kernel_size=(3,3), input_shape=(1024, 1024, 3)))\n",
        "model.add(BatchNormalization())\n",
        "model.add(Activation(\"relu\"))\n",
        "model.add(MaxPooling2D(pool_size=(3,3)))\n",
        "\n",
        "model.add(Conv2D(32, activation=\"relu\", kernel_size=(3,3)))\n",
        "model.add(MaxPooling2D(pool_size=(2,2)))\n",
        "\n",
        "# model.add(Conv2D(32, activation=\"relu\", kernel_size=(3,3)))\n",
        "# model.add(MaxPooling2D(pool_size=(3,3)))\n",
        "\n",
        "model.add(Dropout(0.5))\n",
        "model.add(Flatten())\n",
        "\n",
        "model.add(Dense(64, activation=\"relu\"))\n",
        "\n",
        "model.add(Dense(1, activation='sigmoid'))"
      ],
      "execution_count": 15,
      "outputs": []
    },
    {
      "cell_type": "code",
      "metadata": {
        "id": "y1ySVAP6A0kX",
        "colab_type": "code",
        "colab": {
          "base_uri": "https://localhost:8080/",
          "height": 374
        },
        "outputId": "b01d843f-ff0c-46c3-d2d7-765961a4508a"
      },
      "source": [
        "model.compile(\n",
        "    optimizer=\"adam\", \n",
        "    loss='binary_crossentropy', \n",
        "    metrics=[\"accuracy\"]\n",
        ")\n",
        "\n",
        "model.fit_generator(\n",
        "    generator=data_gen(X_train, batch_size=batch_size), \n",
        "    steps_per_epoch=len(X_train)//batch_size, \n",
        "    epochs=epochs,\n",
        "    verbose=1\n",
        ")"
      ],
      "execution_count": 16,
      "outputs": [
        {
          "output_type": "stream",
          "text": [
            "Epoch 1/10\n",
            "48/48 [==============================] - 25s 514ms/step - loss: 13.8159 - accuracy: 0.7479\n",
            "Epoch 2/10\n",
            "48/48 [==============================] - 24s 510ms/step - loss: 0.6759 - accuracy: 0.8396\n",
            "Epoch 3/10\n",
            "48/48 [==============================] - 24s 506ms/step - loss: 0.6619 - accuracy: 0.8354\n",
            "Epoch 4/10\n",
            "48/48 [==============================] - 24s 507ms/step - loss: 0.6487 - accuracy: 0.8354\n",
            "Epoch 5/10\n",
            "48/48 [==============================] - 24s 510ms/step - loss: 0.6354 - accuracy: 0.8396\n",
            "Epoch 6/10\n",
            "48/48 [==============================] - 25s 516ms/step - loss: 0.6233 - accuracy: 0.8396\n",
            "Epoch 7/10\n",
            "48/48 [==============================] - 24s 508ms/step - loss: 0.6125 - accuracy: 0.8375\n",
            "Epoch 8/10\n",
            "48/48 [==============================] - 24s 509ms/step - loss: 0.6012 - accuracy: 0.8396\n",
            "Epoch 9/10\n",
            "48/48 [==============================] - 24s 510ms/step - loss: 0.5919 - accuracy: 0.8375\n",
            "Epoch 10/10\n",
            "48/48 [==============================] - 24s 509ms/step - loss: 0.5825 - accuracy: 0.8375\n"
          ],
          "name": "stdout"
        },
        {
          "output_type": "execute_result",
          "data": {
            "text/plain": [
              "<keras.callbacks.callbacks.History at 0x7fbec0eb0898>"
            ]
          },
          "metadata": {
            "tags": []
          },
          "execution_count": 16
        }
      ]
    },
    {
      "cell_type": "code",
      "metadata": {
        "id": "L65Uo3PIA6wd",
        "colab_type": "code",
        "colab": {
          "base_uri": "https://localhost:8080/",
          "height": 34
        },
        "outputId": "25a05407-a89f-4de9-cf26-52975fd71a72"
      },
      "source": [
        "loss, accuracy = model.evaluate_generator(\n",
        "    generator=data_gen(X_test, batch_size), \n",
        "    steps=len(X_test)//batch_size, verbose=0\n",
        ")\n",
        "print(\"Accuracy = {:.5f}\".format(accuracy))"
      ],
      "execution_count": 17,
      "outputs": [
        {
          "output_type": "stream",
          "text": [
            "Accuracy = 0.81250\n"
          ],
          "name": "stdout"
        }
      ]
    },
    {
      "cell_type": "markdown",
      "metadata": {
        "id": "C0IlifcoXksY",
        "colab_type": "text"
      },
      "source": [
        "Looks like our model doesn't perform any better after we add more layers. This may be due to how imbalanced our dataset is: we have nearly five times more images without fire than with fire."
      ]
    },
    {
      "cell_type": "code",
      "metadata": {
        "id": "JNYbWgQ4XzwV",
        "colab_type": "code",
        "colab": {
          "base_uri": "https://localhost:8080/",
          "height": 51
        },
        "outputId": "143154a5-dcdb-4a64-cb3c-f9880ef31df6"
      },
      "source": [
        "print(\"# of images w/ fire\\t\", len(df[df[\"label\"] == \"1\"]))\n",
        "print(\"# of images w/o fire\\t\", len(df[df[\"label\"] == \"0\"]))"
      ],
      "execution_count": 18,
      "outputs": [
        {
          "output_type": "stream",
          "text": [
            "# of images w/ fire\t 110\n",
            "# of images w/o fire\t 541\n"
          ],
          "name": "stdout"
        }
      ]
    },
    {
      "cell_type": "markdown",
      "metadata": {
        "id": "Gt9t2odZaOoz",
        "colab_type": "text"
      },
      "source": [
        "### Balancing the dataset with Up-sampling\n",
        "*Up-sampling is the process of randomly duplicating observations from the minority class in order to reinforce its signal.*\n",
        "\n",
        "Source: https://elitedatascience.com/imbalanced-classes"
      ]
    },
    {
      "cell_type": "code",
      "metadata": {
        "id": "p-cURXX-ZDK5",
        "colab_type": "code",
        "colab": {
          "base_uri": "https://localhost:8080/",
          "height": 68
        },
        "outputId": "50859982-0bb3-42b4-9a56-489a49d38e48"
      },
      "source": [
        "from sklearn.utils import resample\n",
        "\n",
        "# Upsample minority class\n",
        "df_fire_upsampled = resample(\n",
        "    df_fire, \n",
        "    replace=True,     # sample with replacement\n",
        "    n_samples=541,    # to match majority class\n",
        "    random_state=123  # reproducible results\n",
        ") \n",
        "\n",
        "df_upsampled = df_normal.append(df_fire_upsampled)\n",
        "\n",
        "df_upsampled[\"label\"].value_counts()"
      ],
      "execution_count": 19,
      "outputs": [
        {
          "output_type": "execute_result",
          "data": {
            "text/plain": [
              "0    541\n",
              "1    541\n",
              "Name: label, dtype: int64"
            ]
          },
          "metadata": {
            "tags": []
          },
          "execution_count": 19
        }
      ]
    },
    {
      "cell_type": "code",
      "metadata": {
        "id": "qRe7_NNpZD3o",
        "colab_type": "code",
        "colab": {
          "base_uri": "https://localhost:8080/",
          "height": 51
        },
        "outputId": "66afd914-3ba1-4ce2-a191-7b13fb11b6e5"
      },
      "source": [
        "up_X_train, up_X_test, up_y_train, up_y_test = train_test_split(\n",
        "    df_upsampled.drop(columns=['label']), df_upsampled['label'],\n",
        "    test_size=0.25, random_state=0\n",
        ")\n",
        "\n",
        "up_X_train['label'] = pd.Series((int(y) for y in up_y_train), index=up_X_train.index)\n",
        "up_X_test['label'] = pd.Series((int(y) for y in up_y_test), index=up_X_test.index)\n",
        "\n",
        "print(\"upsampled X train\\t\", up_X_train.shape, \"\\tupsampled X test\", up_X_test.shape)\n",
        "print(\"upsampled y train\\t\", up_y_train.shape, \"\\tupsampled y test\", up_y_test.shape)"
      ],
      "execution_count": 21,
      "outputs": [
        {
          "output_type": "stream",
          "text": [
            "upsampled X train\t (811, 3) \tupsampled X test (271, 3)\n",
            "upsampled y train\t (811,) \tupsampled y test (271,)\n"
          ],
          "name": "stdout"
        }
      ]
    },
    {
      "cell_type": "code",
      "metadata": {
        "id": "N5cTmfx0p7fC",
        "colab_type": "code",
        "colab": {}
      },
      "source": [
        "model_up = Sequential()\n",
        "\n",
        "# model.add(Conv2D(32, kernel_size=(3,3), input_shape=(1024, 1024, 3), activation=\"relu\"))\n",
        "model_up.add(Conv2D(32, kernel_size=(3,3), input_shape=(1024, 1024, 3)))\n",
        "model_up.add(BatchNormalization())\n",
        "model_up.add(Activation(\"relu\"))\n",
        "model_up.add(MaxPooling2D(pool_size=(3,3)))\n",
        "\n",
        "model_up.add(Conv2D(32, activation=\"relu\", kernel_size=(3,3)))\n",
        "model_up.add(MaxPooling2D(pool_size=(2,2)))\n",
        "\n",
        "# model.add(Conv2D(32, activation=\"relu\", kernel_size=(3,3)))\n",
        "# model.add(MaxPooling2D(pool_size=(3,3)))\n",
        "\n",
        "model_up.add(Dropout(0.5))\n",
        "model_up.add(Flatten())\n",
        "\n",
        "model_up.add(Dense(64, activation=\"relu\"))\n",
        "\n",
        "model_up.add(Dense(1, activation='sigmoid'))"
      ],
      "execution_count": 35,
      "outputs": []
    },
    {
      "cell_type": "code",
      "metadata": {
        "id": "DUaR6iobZEIA",
        "colab_type": "code",
        "colab": {
          "base_uri": "https://localhost:8080/",
          "height": 374
        },
        "outputId": "122ee375-db82-4e9c-c7de-61e9252e98bf"
      },
      "source": [
        "model_up.compile(\n",
        "    optimizer=\"adam\", \n",
        "    loss='binary_crossentropy', \n",
        "    metrics=[\"accuracy\"]\n",
        ")\n",
        "\n",
        "model_up.fit_generator(\n",
        "    generator=data_gen(up_X_train, batch_size=batch_size), \n",
        "    steps_per_epoch=len(up_X_train)//batch_size, \n",
        "    epochs=epochs,\n",
        "    verbose=1\n",
        ")"
      ],
      "execution_count": 36,
      "outputs": [
        {
          "output_type": "stream",
          "text": [
            "Epoch 1/10\n",
            "81/81 [==============================] - 41s 507ms/step - loss: 5.1676 - accuracy: 0.7716\n",
            "Epoch 2/10\n",
            "81/81 [==============================] - 40s 499ms/step - loss: 0.2477 - accuracy: 0.9235\n",
            "Epoch 3/10\n",
            "81/81 [==============================] - 41s 501ms/step - loss: 0.1396 - accuracy: 0.9543\n",
            "Epoch 4/10\n",
            "81/81 [==============================] - 41s 500ms/step - loss: 0.1783 - accuracy: 0.9704\n",
            "Epoch 5/10\n",
            "81/81 [==============================] - 41s 503ms/step - loss: 0.1247 - accuracy: 0.9667\n",
            "Epoch 6/10\n",
            "81/81 [==============================] - 41s 503ms/step - loss: 0.1327 - accuracy: 0.9642\n",
            "Epoch 7/10\n",
            "81/81 [==============================] - 41s 505ms/step - loss: 0.1577 - accuracy: 0.9741\n",
            "Epoch 8/10\n",
            "81/81 [==============================] - 41s 502ms/step - loss: 0.1233 - accuracy: 0.9716\n",
            "Epoch 9/10\n",
            "81/81 [==============================] - 41s 503ms/step - loss: 0.0759 - accuracy: 0.9778\n",
            "Epoch 10/10\n",
            "81/81 [==============================] - 41s 503ms/step - loss: 0.0647 - accuracy: 0.9840\n"
          ],
          "name": "stdout"
        },
        {
          "output_type": "execute_result",
          "data": {
            "text/plain": [
              "<keras.callbacks.callbacks.History at 0x7fbec36912b0>"
            ]
          },
          "metadata": {
            "tags": []
          },
          "execution_count": 36
        }
      ]
    },
    {
      "cell_type": "code",
      "metadata": {
        "id": "T_vZ9nkTZESB",
        "colab_type": "code",
        "colab": {
          "base_uri": "https://localhost:8080/",
          "height": 34
        },
        "outputId": "cf669b92-4f41-48cd-d7e7-511029dc110f"
      },
      "source": [
        "loss, accuracy = model_up.evaluate_generator(\n",
        "    generator=data_gen(up_X_test, batch_size), \n",
        "    steps=len(up_X_test)//batch_size, verbose=0\n",
        ")\n",
        "print(\"Accuracy = {:.5f}\".format(accuracy))"
      ],
      "execution_count": 38,
      "outputs": [
        {
          "output_type": "stream",
          "text": [
            "Accuracy = 0.91111\n"
          ],
          "name": "stdout"
        }
      ]
    },
    {
      "cell_type": "markdown",
      "metadata": {
        "id": "_D46FbCsaPM3",
        "colab_type": "text"
      },
      "source": [
        "---\n",
        "### Scratch"
      ]
    },
    {
      "cell_type": "markdown",
      "metadata": {
        "id": "ykYPJCcf0MzN",
        "colab_type": "text"
      },
      "source": [
        "#### not working w/ modified `fit_generator`"
      ]
    },
    {
      "cell_type": "code",
      "metadata": {
        "id": "Pyvls9RYsXgo",
        "colab_type": "code",
        "colab": {},
        "cellView": "both"
      },
      "source": [
        "#@title\n",
        "baseline.compile(\n",
        "    optimizer=\"adam\", \n",
        "    loss='binary_crossentropy', \n",
        "    metrics=[\"accuracy\"]\n",
        ")\n",
        "\n",
        "baseline.fit_generator(\n",
        "    generator=data_gen_2(X_train, y_train, batch_size=batch_size), \n",
        "    steps_per_epoch=len(X_train)//batch_size, \n",
        "    epochs=epochs,\n",
        "    verbose=1\n",
        ")"
      ],
      "execution_count": null,
      "outputs": []
    },
    {
      "cell_type": "code",
      "metadata": {
        "id": "LrbZd-z8aFmR",
        "colab_type": "code",
        "colab": {},
        "cellView": "form"
      },
      "source": [
        "#@title\n",
        "loss, accuracy = baseline.evaluate_generator(\n",
        "    generator=data_gen(X_test, y_test, batch_size), \n",
        "    steps=len(X_test)//batch_size, verbose=0\n",
        ")\n",
        "print(\"Accuracy = {:.5f}\".format(accuracy))"
      ],
      "execution_count": null,
      "outputs": []
    },
    {
      "cell_type": "markdown",
      "metadata": {
        "id": "JQkmOiWA0sde",
        "colab_type": "text"
      },
      "source": [
        "#### Modified `fit_generator`"
      ]
    },
    {
      "cell_type": "code",
      "metadata": {
        "id": "fWVUN4M0abb0",
        "colab_type": "code",
        "colab": {},
        "cellView": "form"
      },
      "source": [
        "#@title\n",
        "from PIL import Image\n",
        "from keras.preprocessing.image import img_to_array\n",
        "\n",
        "def data_gen_2(X, y, batch_size):\n",
        "    print(X)\n",
        "    while True:\n",
        "    # for i in range(5):\n",
        "        x_batch = np.zeros((batch_size, img_size, img_size, 3))\n",
        "        y_batch = np.zeros((batch_size, 1))\n",
        "        for j in range(len(X)//batch_size):\n",
        "            b = 0\n",
        "            for m, k in zip(range(len(X[j*batch_size:(j+1)*batch_size])), y[j*batch_size:(j+1)*batch_size]):\n",
        "                # print(k, 'dataset/{}/{}'.format(X[\"folder\"].iloc[m], X[\"filename\"].iloc[m]))\n",
        "                img = Image.open('dataset/{}/{}'.format(X[\"folder\"].iloc[m], X[\"filename\"].iloc[m])).convert(\"RGB\")\n",
        "                image_red = img.resize((img_size, img_size))\n",
        "                x_batch[b] = img_to_array(image_red)\n",
        "                y_batch[b] = k\n",
        "                b += 1\n",
        "            yield (x_batch, y_batch)"
      ],
      "execution_count": null,
      "outputs": []
    },
    {
      "cell_type": "markdown",
      "metadata": {
        "id": "-LkkHp1-ejl4",
        "colab_type": "text"
      },
      "source": [
        "#### git clone dataset"
      ]
    },
    {
      "cell_type": "code",
      "metadata": {
        "id": "g52UfPi6aztE",
        "colab_type": "code",
        "colab": {},
        "cellView": "both"
      },
      "source": [
        "!git clone https://github.com/TasfiaAddrita/DS-2.2-Deep-Learning.git"
      ],
      "execution_count": null,
      "outputs": []
    },
    {
      "cell_type": "code",
      "metadata": {
        "id": "H03iiv7u41xM",
        "colab_type": "code",
        "colab": {}
      },
      "source": [
        "!mv DS-2.2-Deep-Learning/final-project/dataset/ ."
      ],
      "execution_count": null,
      "outputs": []
    },
    {
      "cell_type": "code",
      "metadata": {
        "id": "kBpbJW8jeGxG",
        "colab_type": "code",
        "colab": {},
        "cellView": "both"
      },
      "source": [
        "!rm -rf DS-2.2-Deep-Learning/"
      ],
      "execution_count": null,
      "outputs": []
    }
  ]
}