{
  "nbformat": 4,
  "nbformat_minor": 0,
  "metadata": {
    "colab": {
      "name": "fire-classification-nn.ipynb",
      "provenance": [],
      "collapsed_sections": [
        "JQkmOiWA0sde",
        "ykYPJCcf0MzN",
        "xbRs6NLOAgik"
      ],
      "toc_visible": true
    },
    "kernelspec": {
      "name": "python3",
      "display_name": "Python 3"
    },
    "accelerator": "GPU"
  },
  "cells": [
    {
      "cell_type": "markdown",
      "metadata": {
        "id": "33AdHhsGgOwO",
        "colab_type": "text"
      },
      "source": [
        "### Imports"
      ]
    },
    {
      "cell_type": "code",
      "metadata": {
        "id": "u0csvbzfuDq6",
        "colab_type": "code",
        "colab": {}
      },
      "source": [
        "keras.backend.clear_session()"
      ],
      "execution_count": 238,
      "outputs": []
    },
    {
      "cell_type": "code",
      "metadata": {
        "id": "EUol6fk1fIBw",
        "colab_type": "code",
        "colab": {}
      },
      "source": [
        "import glob\n",
        "import numpy as np\n",
        "import pandas as pd\n",
        "import matplotlib.pyplot as plt\n",
        "from sklearn.model_selection import train_test_split\n",
        "\n",
        "import keras\n",
        "from keras.models import Sequential\n",
        "from keras.layers import Dense, Input, Conv2D, MaxPooling2D, Dropout, Flatten, BatchNormalization, Activation\n",
        "from keras.optimizers import SGD\n",
        "from keras.initializers import RandomNormal\n",
        "from keras.models import load_model"
      ],
      "execution_count": 239,
      "outputs": []
    },
    {
      "cell_type": "markdown",
      "metadata": {
        "id": "N8MF5neJ_g4I",
        "colab_type": "text"
      },
      "source": [
        "### Data Preparation"
      ]
    },
    {
      "cell_type": "code",
      "metadata": {
        "id": "eR0Ocnyoiwq5",
        "colab_type": "code",
        "colab": {}
      },
      "source": [
        "files = glob.glob(\"./dataset/fire-images/*.*\")\n",
        "ls_fire = []\n",
        "for i in files:\n",
        "    ls_fire.append(['fire-images', i.split(\"/\")[3], '1'])"
      ],
      "execution_count": 240,
      "outputs": []
    },
    {
      "cell_type": "code",
      "metadata": {
        "id": "oQ1Vmbt7jB_B",
        "colab_type": "code",
        "colab": {
          "base_uri": "https://localhost:8080/",
          "height": 204
        },
        "outputId": "6c74334b-8176-4498-d750-d05044ad081e"
      },
      "source": [
        "df_fire = pd.DataFrame(ls_fire, columns=['folder', 'filename', 'label'])\n",
        "df_fire.head()"
      ],
      "execution_count": 241,
      "outputs": [
        {
          "output_type": "execute_result",
          "data": {
            "text/html": [
              "<div>\n",
              "<style scoped>\n",
              "    .dataframe tbody tr th:only-of-type {\n",
              "        vertical-align: middle;\n",
              "    }\n",
              "\n",
              "    .dataframe tbody tr th {\n",
              "        vertical-align: top;\n",
              "    }\n",
              "\n",
              "    .dataframe thead th {\n",
              "        text-align: right;\n",
              "    }\n",
              "</style>\n",
              "<table border=\"1\" class=\"dataframe\">\n",
              "  <thead>\n",
              "    <tr style=\"text-align: right;\">\n",
              "      <th></th>\n",
              "      <th>folder</th>\n",
              "      <th>filename</th>\n",
              "      <th>label</th>\n",
              "    </tr>\n",
              "  </thead>\n",
              "  <tbody>\n",
              "    <tr>\n",
              "      <th>0</th>\n",
              "      <td>fire-images</td>\n",
              "      <td>92983122.jpg</td>\n",
              "      <td>1</td>\n",
              "    </tr>\n",
              "    <tr>\n",
              "      <th>1</th>\n",
              "      <td>fire-images</td>\n",
              "      <td>wildfire-coverage-521x308.jpg</td>\n",
              "      <td>1</td>\n",
              "    </tr>\n",
              "    <tr>\n",
              "      <th>2</th>\n",
              "      <td>fire-images</td>\n",
              "      <td>201307-restroom-fire-safety-fire1.jpg</td>\n",
              "      <td>1</td>\n",
              "    </tr>\n",
              "    <tr>\n",
              "      <th>3</th>\n",
              "      <td>fire-images</td>\n",
              "      <td>X-Files_Office_on_fire.jpg</td>\n",
              "      <td>1</td>\n",
              "    </tr>\n",
              "    <tr>\n",
              "      <th>4</th>\n",
              "      <td>fire-images</td>\n",
              "      <td>tree-fire.jpg</td>\n",
              "      <td>1</td>\n",
              "    </tr>\n",
              "  </tbody>\n",
              "</table>\n",
              "</div>"
            ],
            "text/plain": [
              "        folder                               filename label\n",
              "0  fire-images                           92983122.jpg     1\n",
              "1  fire-images          wildfire-coverage-521x308.jpg     1\n",
              "2  fire-images  201307-restroom-fire-safety-fire1.jpg     1\n",
              "3  fire-images             X-Files_Office_on_fire.jpg     1\n",
              "4  fire-images                          tree-fire.jpg     1"
            ]
          },
          "metadata": {
            "tags": []
          },
          "execution_count": 241
        }
      ]
    },
    {
      "cell_type": "code",
      "metadata": {
        "id": "pUpy7rcajINJ",
        "colab_type": "code",
        "colab": {}
      },
      "source": [
        "files = glob.glob(\"./dataset/normal-images-?/*.*\")\n",
        "ls_normal = []\n",
        "for i in files:\n",
        "    folder, filename = i.split(\"/\")[2], i.split(\"/\")[3]\n",
        "    ls_normal.append([f'{folder}', filename, '0'])"
      ],
      "execution_count": 242,
      "outputs": []
    },
    {
      "cell_type": "code",
      "metadata": {
        "id": "occSuPsxj8HO",
        "colab_type": "code",
        "colab": {
          "base_uri": "https://localhost:8080/",
          "height": 204
        },
        "outputId": "78d64af8-fb31-41c8-e401-d175841e55b0"
      },
      "source": [
        "df_normal = pd.DataFrame(ls_normal, columns=['folder', 'filename', 'label'])\n",
        "df_normal.head()"
      ],
      "execution_count": 243,
      "outputs": [
        {
          "output_type": "execute_result",
          "data": {
            "text/html": [
              "<div>\n",
              "<style scoped>\n",
              "    .dataframe tbody tr th:only-of-type {\n",
              "        vertical-align: middle;\n",
              "    }\n",
              "\n",
              "    .dataframe tbody tr th {\n",
              "        vertical-align: top;\n",
              "    }\n",
              "\n",
              "    .dataframe thead th {\n",
              "        text-align: right;\n",
              "    }\n",
              "</style>\n",
              "<table border=\"1\" class=\"dataframe\">\n",
              "  <thead>\n",
              "    <tr style=\"text-align: right;\">\n",
              "      <th></th>\n",
              "      <th>folder</th>\n",
              "      <th>filename</th>\n",
              "      <th>label</th>\n",
              "    </tr>\n",
              "  </thead>\n",
              "  <tbody>\n",
              "    <tr>\n",
              "      <th>0</th>\n",
              "      <td>normal-images-5</td>\n",
              "      <td>rooms-hotel-tbilisi-suite-bed-and-bathtub-city...</td>\n",
              "      <td>0</td>\n",
              "    </tr>\n",
              "    <tr>\n",
              "      <th>1</th>\n",
              "      <td>normal-images-5</td>\n",
              "      <td>unnamed.jpg</td>\n",
              "      <td>0</td>\n",
              "    </tr>\n",
              "    <tr>\n",
              "      <th>2</th>\n",
              "      <td>normal-images-5</td>\n",
              "      <td>Tromso.-Photo-credits-Bard-Loken-Innovatioin-N...</td>\n",
              "      <td>0</td>\n",
              "    </tr>\n",
              "    <tr>\n",
              "      <th>3</th>\n",
              "      <td>normal-images-5</td>\n",
              "      <td>tumblr_inline_nj85l1oMaC1t5js1c.jpg</td>\n",
              "      <td>0</td>\n",
              "    </tr>\n",
              "    <tr>\n",
              "      <th>4</th>\n",
              "      <td>normal-images-5</td>\n",
              "      <td>visa_requirements_for_norway-56e03f4b96539.jpg</td>\n",
              "      <td>0</td>\n",
              "    </tr>\n",
              "  </tbody>\n",
              "</table>\n",
              "</div>"
            ],
            "text/plain": [
              "            folder                                           filename label\n",
              "0  normal-images-5  rooms-hotel-tbilisi-suite-bed-and-bathtub-city...     0\n",
              "1  normal-images-5                                        unnamed.jpg     0\n",
              "2  normal-images-5  Tromso.-Photo-credits-Bard-Loken-Innovatioin-N...     0\n",
              "3  normal-images-5                tumblr_inline_nj85l1oMaC1t5js1c.jpg     0\n",
              "4  normal-images-5     visa_requirements_for_norway-56e03f4b96539.jpg     0"
            ]
          },
          "metadata": {
            "tags": []
          },
          "execution_count": 243
        }
      ]
    },
    {
      "cell_type": "code",
      "metadata": {
        "id": "9lgUZOm62dhL",
        "colab_type": "code",
        "colab": {}
      },
      "source": [
        "df = df_fire.append(df_normal, ignore_index=True)\n",
        "X = df[[\"folder\", \"filename\"]]\n",
        "y = df[\"label\"]"
      ],
      "execution_count": 244,
      "outputs": []
    },
    {
      "cell_type": "code",
      "metadata": {
        "id": "aS3p4z4XvGFV",
        "colab_type": "code",
        "colab": {}
      },
      "source": [
        "df.to_csv(\"./dataset/fires.csv\")"
      ],
      "execution_count": 245,
      "outputs": []
    },
    {
      "cell_type": "code",
      "metadata": {
        "id": "gG2sVMb2kprP",
        "colab_type": "code",
        "colab": {
          "base_uri": "https://localhost:8080/",
          "height": 51
        },
        "outputId": "c75de80e-d533-4604-9590-1b9f2516f8a3"
      },
      "source": [
        "# X_train, X_test, y_train, y_test = train_test_split(X, y, test_size=0.25, random_state=0)\n",
        "\n",
        "X_train, X_test, y_train, y_test = train_test_split(\n",
        "    df.drop(columns=['label']), df['label'],\n",
        "    test_size=0.25, random_state=0\n",
        ")\n",
        "\n",
        "X_train['label'] = pd.Series((int(y) for y in y_train), index=X_train.index)\n",
        "X_test['label'] = pd.Series((int(y) for y in y_test), index=X_test.index)\n",
        "\n",
        "print(\"X train\\t\", X_train.shape, \"\\tX test\", X_test.shape)\n",
        "print(\"y train\\t\", y_train.shape, \"\\ty test\", y_test.shape)"
      ],
      "execution_count": 246,
      "outputs": [
        {
          "output_type": "stream",
          "text": [
            "X train\t (488, 3) \tX test (163, 3)\n",
            "y train\t (488,) \ty test (163,)\n"
          ],
          "name": "stdout"
        }
      ]
    },
    {
      "cell_type": "code",
      "metadata": {
        "id": "tewn_BCvGsXb",
        "colab_type": "code",
        "colab": {}
      },
      "source": [
        "# hyper-parameters initialization\n",
        "\n",
        "img_size = 1024\n",
        "batch_size = 10\n",
        "epochs = 10"
      ],
      "execution_count": 247,
      "outputs": []
    },
    {
      "cell_type": "markdown",
      "metadata": {
        "id": "PlLobljx0lqF",
        "colab_type": "text"
      },
      "source": [
        "#### Milad's `fit_generator`"
      ]
    },
    {
      "cell_type": "code",
      "metadata": {
        "id": "fk4p_g3qkKP-",
        "colab_type": "code",
        "colab": {}
      },
      "source": [
        "from PIL import Image\n",
        "from keras.preprocessing.image import img_to_array\n",
        "\n",
        "# Create data generator for training\n",
        "def data_gen(df, batch_size):\n",
        "    while True:\n",
        "        x_batch = np.zeros((batch_size, 1024, 1024, 3))\n",
        "        y_batch = np.zeros((batch_size, 1))\n",
        "        for j in range(len(df)//batch_size):\n",
        "            b = 0\n",
        "            for m, k in zip(df['filename'].values[j*batch_size:(j+1)*batch_size], df['label'].values[j*batch_size:(j+1)*batch_size]):\n",
        "                # print(k, 'dataset/{}/{}'.format(df[df['filename'] == m]['folder'].values[0], m))\n",
        "                img = Image.open('dataset/{}/{}'.format(df[df['filename'] == m]['folder'].values[0], m)).convert('RGB')\n",
        "                image_red = img.resize((img_size, img_size))\n",
        "                x_batch[b] = img_to_array(image_red)\n",
        "                y_batch[b] = k\n",
        "                b += 1\n",
        "            yield (x_batch, y_batch)"
      ],
      "execution_count": 248,
      "outputs": []
    },
    {
      "cell_type": "markdown",
      "metadata": {
        "id": "JQkmOiWA0sde",
        "colab_type": "text"
      },
      "source": [
        "#### Modified `fit_generator`"
      ]
    },
    {
      "cell_type": "code",
      "metadata": {
        "id": "fWVUN4M0abb0",
        "colab_type": "code",
        "colab": {}
      },
      "source": [
        "from PIL import Image\n",
        "from keras.preprocessing.image import img_to_array\n",
        "\n",
        "def data_gen_2(X, y, batch_size):\n",
        "    print(X)\n",
        "    while True:\n",
        "    # for i in range(5):\n",
        "        x_batch = np.zeros((batch_size, img_size, img_size, 3))\n",
        "        y_batch = np.zeros((batch_size, 1))\n",
        "        for j in range(len(X)//batch_size):\n",
        "            b = 0\n",
        "            for m, k in zip(range(len(X[j*batch_size:(j+1)*batch_size])), y[j*batch_size:(j+1)*batch_size]):\n",
        "                # print(k, 'dataset/{}/{}'.format(X[\"folder\"].iloc[m], X[\"filename\"].iloc[m]))\n",
        "                img = Image.open('dataset/{}/{}'.format(X[\"folder\"].iloc[m], X[\"filename\"].iloc[m])).convert(\"RGB\")\n",
        "                image_red = img.resize((img_size, img_size))\n",
        "                x_batch[b] = img_to_array(image_red)\n",
        "                y_batch[b] = k\n",
        "                b += 1\n",
        "            yield (x_batch, y_batch)"
      ],
      "execution_count": 233,
      "outputs": []
    },
    {
      "cell_type": "markdown",
      "metadata": {
        "id": "QJm_8ZzoAGx5",
        "colab_type": "text"
      },
      "source": [
        "### CNN"
      ]
    },
    {
      "cell_type": "markdown",
      "metadata": {
        "id": "Iuta9PRQASr-",
        "colab_type": "text"
      },
      "source": [
        "#### Baseline model"
      ]
    },
    {
      "cell_type": "code",
      "metadata": {
        "id": "nhFtN5S36kjy",
        "colab_type": "code",
        "colab": {}
      },
      "source": [
        "baseline = Sequential()\n",
        "\n",
        "baseline.add(Conv2D(\n",
        "    32, kernel_size=(3,3), \n",
        "    input_shape=(img_size, img_size, 3), \n",
        "    kernel_initializer='he_uniform', \n",
        "    activation=\"relu\")\n",
        ")\n",
        "# baseline.add(Conv2D(32, kernel_size=(3,3), input_shape=(1024, 1024, 3), use_bias=False))\n",
        "# model.add(BatchNormalization())\n",
        "# baseline.add(Activation(\"relu\"))\n",
        "baseline.add(MaxPooling2D(pool_size=(2,2)))\n",
        "# baseline.add(Dropout(0.5))\n",
        "baseline.add(Flatten())\n",
        "# baseline.add(Dense(32, activation='relu'))\n",
        "baseline.add(Dense(1, activation='sigmoid'))"
      ],
      "execution_count": 249,
      "outputs": []
    },
    {
      "cell_type": "markdown",
      "metadata": {
        "id": "Fjm0gq6C0GzL",
        "colab_type": "text"
      },
      "source": [
        "#### working w/ Milad's `fit_generator`"
      ]
    },
    {
      "cell_type": "code",
      "metadata": {
        "id": "Fwtx8bB6wtOQ",
        "colab_type": "code",
        "colab": {
          "base_uri": "https://localhost:8080/",
          "height": 374
        },
        "outputId": "c6c0fa7a-b79e-4477-c9b9-a56955332729"
      },
      "source": [
        "baseline.compile(\n",
        "    optimizer=\"adam\", \n",
        "    loss='binary_crossentropy', \n",
        "    metrics=[\"accuracy\"]\n",
        ")\n",
        "\n",
        "baseline.fit_generator(\n",
        "    generator=data_gen(X_train, batch_size=batch_size), \n",
        "    steps_per_epoch=len(X_train)//batch_size, \n",
        "    epochs=epochs,\n",
        "    verbose=1\n",
        ")"
      ],
      "execution_count": 250,
      "outputs": [
        {
          "output_type": "stream",
          "text": [
            "Epoch 1/10\n",
            "48/48 [==============================] - 20s 410ms/step - loss: 40556.1708 - accuracy: 0.7854\n",
            "Epoch 2/10\n",
            "48/48 [==============================] - 19s 405ms/step - loss: 7115.3428 - accuracy: 0.8687\n",
            "Epoch 3/10\n",
            "48/48 [==============================] - 19s 405ms/step - loss: 2600.1368 - accuracy: 0.8875\n",
            "Epoch 4/10\n",
            "48/48 [==============================] - 20s 410ms/step - loss: 2598.4582 - accuracy: 0.9250\n",
            "Epoch 5/10\n",
            "48/48 [==============================] - 19s 405ms/step - loss: 1984.6352 - accuracy: 0.9229\n",
            "Epoch 6/10\n",
            "48/48 [==============================] - 19s 405ms/step - loss: 1815.9000 - accuracy: 0.9250\n",
            "Epoch 7/10\n",
            "48/48 [==============================] - 19s 405ms/step - loss: 5888.0374 - accuracy: 0.8917\n",
            "Epoch 8/10\n",
            "48/48 [==============================] - 20s 407ms/step - loss: 701.7731 - accuracy: 0.9646\n",
            "Epoch 9/10\n",
            "48/48 [==============================] - 19s 404ms/step - loss: 411.2948 - accuracy: 0.9833\n",
            "Epoch 10/10\n",
            "48/48 [==============================] - 19s 405ms/step - loss: 431.2590 - accuracy: 0.9771\n"
          ],
          "name": "stdout"
        },
        {
          "output_type": "execute_result",
          "data": {
            "text/plain": [
              "<keras.callbacks.callbacks.History at 0x7fceb4a36c50>"
            ]
          },
          "metadata": {
            "tags": []
          },
          "execution_count": 250
        }
      ]
    },
    {
      "cell_type": "code",
      "metadata": {
        "id": "YkWc_ixz0b98",
        "colab_type": "code",
        "colab": {
          "base_uri": "https://localhost:8080/",
          "height": 34
        },
        "outputId": "56cce8e6-d60e-4a46-aeae-e98b66564088"
      },
      "source": [
        "loss, accuracy = baseline.evaluate_generator(\n",
        "    generator=data_gen(X_test, batch_size), \n",
        "    steps=len(X_test)//batch_size, verbose=0\n",
        ")\n",
        "print(\"Accuracy = {:.5f}\".format(accuracy))"
      ],
      "execution_count": 252,
      "outputs": [
        {
          "output_type": "stream",
          "text": [
            "Accuracy = 0.86875\n"
          ],
          "name": "stdout"
        }
      ]
    },
    {
      "cell_type": "markdown",
      "metadata": {
        "id": "ykYPJCcf0MzN",
        "colab_type": "text"
      },
      "source": [
        "#### not working w/ modified `fit_generator`"
      ]
    },
    {
      "cell_type": "code",
      "metadata": {
        "id": "Pyvls9RYsXgo",
        "colab_type": "code",
        "colab": {}
      },
      "source": [
        "baseline.compile(\n",
        "    optimizer=\"adam\", \n",
        "    loss='binary_crossentropy', \n",
        "    metrics=[\"accuracy\"]\n",
        ")\n",
        "\n",
        "baseline.fit_generator(\n",
        "    generator=data_gen_2(X_train, y_train, batch_size=batch_size), \n",
        "    steps_per_epoch=len(X_train)//batch_size, \n",
        "    epochs=epochs,\n",
        "    verbose=1\n",
        ")"
      ],
      "execution_count": null,
      "outputs": []
    },
    {
      "cell_type": "code",
      "metadata": {
        "id": "LrbZd-z8aFmR",
        "colab_type": "code",
        "colab": {
          "base_uri": "https://localhost:8080/",
          "height": 34
        },
        "outputId": "1e1b47e3-7dfe-4b41-9286-39624773f296"
      },
      "source": [
        "loss, accuracy = baseline.evaluate_generator(\n",
        "    generator=data_gen(X_test, y_test, batch_size), \n",
        "    steps=len(X_test)//batch_size, verbose=0\n",
        ")\n",
        "print(\"Accuracy = {:.5f}\".format(accuracy))"
      ],
      "execution_count": 59,
      "outputs": [
        {
          "output_type": "stream",
          "text": [
            "Accuracy = 0.73750\n"
          ],
          "name": "stdout"
        }
      ]
    },
    {
      "cell_type": "markdown",
      "metadata": {
        "id": "xbRs6NLOAgik",
        "colab_type": "text"
      },
      "source": [
        "#### Model "
      ]
    },
    {
      "cell_type": "code",
      "metadata": {
        "id": "2F7vppNJ9E63",
        "colab_type": "code",
        "colab": {}
      },
      "source": [
        "model = Sequential()\n",
        "\n",
        "model.add(Conv2D(32, kernel_size=(3,3), input_shape=(1024, 1024, 3), activation=\"relu\"))\n",
        "model.add(BatchNormalization())\n",
        "model.add(Activation(\"relu\"))\n",
        "model.add(MaxPooling2D(pool_size=(3,3)))\n",
        "\n",
        "model.add(Conv2D(32, activation=\"relu\", kernel_size=(3,3)))\n",
        "model.add(MaxPooling2D(pool_size=(3,3)))\n",
        "\n",
        "# model.add(Conv2D(32, activation=\"relu\", kernel_size=(3,3)))\n",
        "# model.add(MaxPooling2D(pool_size=(3,3)))\n",
        "\n",
        "model.add(Dropout(0.2))\n",
        "model.add(Flatten())\n",
        "\n",
        "model.add(Dense(1, activation='sigmoid'))"
      ],
      "execution_count": 60,
      "outputs": []
    },
    {
      "cell_type": "code",
      "metadata": {
        "id": "y1ySVAP6A0kX",
        "colab_type": "code",
        "colab": {}
      },
      "source": [
        "model.compile(\n",
        "    optimizer=\"adam\", \n",
        "    loss='binary_crossentropy', \n",
        "    metrics=[\"accuracy\"]\n",
        ")\n",
        "\n",
        "model.fit_generator(\n",
        "    generator=data_gen(X_train, y_train, batch_size=batch_size), \n",
        "    steps_per_epoch=len(X_train)//batch_size, \n",
        "    epochs=epochs,\n",
        "    verbose=1\n",
        ")"
      ],
      "execution_count": null,
      "outputs": []
    },
    {
      "cell_type": "code",
      "metadata": {
        "id": "L65Uo3PIA6wd",
        "colab_type": "code",
        "colab": {
          "base_uri": "https://localhost:8080/",
          "height": 34
        },
        "outputId": "69e3545a-c07c-4001-ed29-84d3aaed6405"
      },
      "source": [
        "loss, accuracy = model.evaluate_generator(\n",
        "    generator=data_gen(X_test, y_test, batch_size), \n",
        "    steps=len(X_test)//batch_size, verbose=0\n",
        ")\n",
        "print(\"Accuracy = {:.5f}\".format(accuracy))"
      ],
      "execution_count": 62,
      "outputs": [
        {
          "output_type": "stream",
          "text": [
            "Accuracy = 0.81250\n"
          ],
          "name": "stdout"
        }
      ]
    }
  ]
}